{
 "cells": [
  {
   "cell_type": "code",
   "execution_count": 13,
   "metadata": {},
   "outputs": [],
   "source": [
    "import util\n",
    "\n",
    "import collections, itertools, pathlib, string"
   ]
  },
  {
   "cell_type": "code",
   "execution_count": 14,
   "metadata": {},
   "outputs": [
    {
     "data": {
      "text/plain": [
       "2309"
      ]
     },
     "execution_count": 14,
     "metadata": {},
     "output_type": "execute_result"
    }
   ],
   "source": [
    "allowed_targets = util.parse_word_list(pathlib.Path('./allowed_targets.txt'),\n",
    "                                       shuffle=False)\n",
    "len(allowed_targets)"
   ]
  },
  {
   "cell_type": "code",
   "execution_count": 15,
   "metadata": {},
   "outputs": [
    {
     "data": {
      "text/plain": [
       "[('e', 1053),\n",
       " ('a', 906),\n",
       " ('r', 835),\n",
       " ('o', 672),\n",
       " ('t', 667),\n",
       " ('i', 646),\n",
       " ('l', 645),\n",
       " ('s', 617),\n",
       " ('n', 548),\n",
       " ('u', 456),\n",
       " ('c', 446),\n",
       " ('y', 416),\n",
       " ('h', 377),\n",
       " ('d', 370),\n",
       " ('p', 345),\n",
       " ('g', 299),\n",
       " ('m', 298),\n",
       " ('b', 266),\n",
       " ('f', 206),\n",
       " ('k', 202),\n",
       " ('w', 193),\n",
       " ('v', 148),\n",
       " ('x', 37),\n",
       " ('z', 35),\n",
       " ('q', 29),\n",
       " ('j', 27)]"
      ]
     },
     "execution_count": 15,
     "metadata": {},
     "output_type": "execute_result"
    }
   ],
   "source": [
    "collections.Counter(itertools.chain(*map(set, allowed_targets))).most_common()"
   ]
  },
  {
   "cell_type": "code",
   "execution_count": 16,
   "metadata": {},
   "outputs": [
    {
     "name": "stdout",
     "output_type": "stream",
     "text": [
      "Index 0: [('s', 365), ('c', 198), ('b', 173), ('t', 149), ('p', 141), ('a', 140), ('f', 135), ('g', 115), ('d', 111), ('m', 107), ('r', 105), ('l', 87), ('w', 82), ('e', 72), ('h', 69), ('v', 43), ('o', 41), ('n', 37), ('i', 34), ('u', 33), ('q', 23), ('k', 20), ('j', 20), ('y', 6), ('z', 3)]\n",
      "Index 1: [('a', 304), ('o', 279), ('r', 267), ('e', 241), ('i', 201), ('l', 200), ('u', 185), ('h', 144), ('n', 87), ('t', 77), ('p', 61), ('w', 44), ('c', 40), ('m', 38), ('y', 22), ('d', 20), ('b', 16), ('s', 16), ('v', 15), ('x', 14), ('g', 11), ('k', 10), ('f', 8), ('q', 5), ('z', 2), ('j', 2)]\n",
      "Index 2: [('a', 306), ('i', 266), ('o', 243), ('e', 177), ('u', 165), ('r', 163), ('n', 137), ('l', 112), ('t', 111), ('s', 80), ('d', 75), ('g', 67), ('m', 61), ('p', 57), ('c', 56), ('b', 56), ('v', 49), ('y', 29), ('w', 26), ('f', 25), ('k', 12), ('x', 12), ('z', 11), ('h', 9), ('j', 3), ('q', 1)]\n",
      "Index 3: [('e', 318), ('n', 182), ('s', 171), ('l', 162), ('a', 162), ('i', 158), ('c', 150), ('r', 150), ('t', 139), ('o', 132), ('u', 82), ('g', 76), ('d', 69), ('m', 68), ('k', 55), ('p', 50), ('v', 45), ('f', 35), ('h', 28), ('w', 25), ('b', 24), ('z', 20), ('y', 3), ('x', 3), ('j', 2)]\n",
      "Index 4: [('e', 422), ('y', 364), ('t', 253), ('r', 212), ('l', 155), ('h', 137), ('n', 130), ('d', 118), ('k', 113), ('a', 63), ('o', 58), ('p', 56), ('m', 42), ('g', 41), ('s', 36), ('c', 31), ('f', 26), ('w', 17), ('b', 11), ('i', 11), ('x', 8), ('z', 4), ('u', 1)]\n"
     ]
    }
   ],
   "source": [
    "TARGET_LENGTH = len(allowed_targets[0])\n",
    "for i in range(TARGET_LENGTH):\n",
    "    print(f'Index {i}:', collections.Counter(w[i] for w in allowed_targets).most_common())"
   ]
  },
  {
   "cell_type": "code",
   "execution_count": 17,
   "metadata": {},
   "outputs": [
    {
     "data": {
      "text/plain": [
       "{'a': [140, 304, 306, 162, 63],\n",
       " 'b': [173, 16, 56, 24, 11],\n",
       " 'c': [198, 40, 56, 150, 31],\n",
       " 'd': [111, 20, 75, 69, 118],\n",
       " 'e': [72, 241, 177, 318, 422],\n",
       " 'f': [135, 8, 25, 35, 26],\n",
       " 'g': [115, 11, 67, 76, 41],\n",
       " 'h': [69, 144, 9, 28, 137],\n",
       " 'i': [34, 201, 266, 158, 11],\n",
       " 'j': [20, 2, 3, 2, 0],\n",
       " 'k': [20, 10, 12, 55, 113],\n",
       " 'l': [87, 200, 112, 162, 155],\n",
       " 'm': [107, 38, 61, 68, 42],\n",
       " 'n': [37, 87, 137, 182, 130],\n",
       " 'o': [41, 279, 243, 132, 58],\n",
       " 'p': [141, 61, 57, 50, 56],\n",
       " 'q': [23, 5, 1, 0, 0],\n",
       " 'r': [105, 267, 163, 150, 212],\n",
       " 's': [365, 16, 80, 171, 36],\n",
       " 't': [149, 77, 111, 139, 253],\n",
       " 'u': [33, 185, 165, 82, 1],\n",
       " 'v': [43, 15, 49, 45, 0],\n",
       " 'w': [82, 44, 26, 25, 17],\n",
       " 'x': [0, 14, 12, 3, 8],\n",
       " 'y': [6, 22, 29, 3, 364],\n",
       " 'z': [3, 2, 11, 20, 4]}"
      ]
     },
     "execution_count": 17,
     "metadata": {},
     "output_type": "execute_result"
    }
   ],
   "source": [
    "{\n",
    "    letter: [sum(w[i] == letter for w in allowed_targets)\n",
    "             for i in range(TARGET_LENGTH)]\n",
    "    for letter in string.ascii_lowercase\n",
    "}"
   ]
  }
 ],
 "metadata": {
  "kernelspec": {
   "display_name": "base",
   "language": "python",
   "name": "python3"
  },
  "language_info": {
   "codemirror_mode": {
    "name": "ipython",
    "version": 3
   },
   "file_extension": ".py",
   "mimetype": "text/x-python",
   "name": "python",
   "nbconvert_exporter": "python",
   "pygments_lexer": "ipython3",
   "version": "3.9.16"
  },
  "orig_nbformat": 4
 },
 "nbformat": 4,
 "nbformat_minor": 2
}
